{
  "nbformat": 4,
  "nbformat_minor": 0,
  "metadata": {
    "colab": {
      "name": "A2_q1.ipynb",
      "provenance": [],
      "collapsed_sections": []
    },
    "kernelspec": {
      "name": "python3",
      "display_name": "Python 3"
    },
    "accelerator": "GPU"
  },
  "cells": [
    {
      "cell_type": "markdown",
      "metadata": {
        "id": "Db_i_TnhuSQN",
        "colab_type": "text"
      },
      "source": [
        "#**Question 1**\n",
        "\n"
      ]
    },
    {
      "cell_type": "code",
      "metadata": {
        "id": "8N_jpdS-tcuM",
        "colab_type": "code",
        "colab": {}
      },
      "source": [
        "import numpy as np\n",
        "import matplotlib.pyplot as plt\n",
        "import pickle\n",
        "from sklearn.model_selection import train_test_split"
      ],
      "execution_count": 0,
      "outputs": []
    },
    {
      "cell_type": "markdown",
      "metadata": {
        "id": "y_qF1eqHlwQm",
        "colab_type": "text"
      },
      "source": [
        "## **Load Data**"
      ]
    },
    {
      "cell_type": "code",
      "metadata": {
        "id": "8rWuDdLUFN0f",
        "colab_type": "code",
        "colab": {}
      },
      "source": [
        "def load_data(path, batch_id):\n",
        "    with open(path + '/data_batch_' + str(batch_id), mode='rb') as file:\n",
        "        batch = pickle.load(file, encoding='latin1')\n",
        "    features = batch['data']\n",
        "    # features = batch['data'].reshape((len(batch['data']), 3, 32, 32)).transpose(0, 2, 3, 1)\n",
        "    labels = batch['labels']\n",
        "    return features, labels"
      ],
      "execution_count": 0,
      "outputs": []
    },
    {
      "cell_type": "code",
      "metadata": {
        "id": "RGHunpQkFjq7",
        "colab_type": "code",
        "colab": {}
      },
      "source": [
        "f=\"/content/drive/My Drive/Datasets/Question-1/cifar-10-python/cifar-10-batches-py\";\n",
        "feature,label =[],[]\n",
        "temp1=[]\n",
        "temp2=[]\n",
        "for i in range(1,6):\n",
        "  temp1,temp2=load_data(f,i)\n",
        "  feature.append(temp1)\n",
        "  label.append(temp2)"
      ],
      "execution_count": 0,
      "outputs": []
    },
    {
      "cell_type": "code",
      "metadata": {
        "id": "DqHbAB_G3gUp",
        "colab_type": "code",
        "colab": {}
      },
      "source": [
        "train=[]\n",
        "lab=[]\n",
        "for i in range(len(feature)):\n",
        "  for j in range(len(feature[i])):\n",
        "    train.append(feature[i][j])\n",
        "    lab.append(label[i][j])\n",
        "train=np.array(train)\n",
        "lab=np.array(lab)"
      ],
      "execution_count": 0,
      "outputs": []
    },
    {
      "cell_type": "code",
      "metadata": {
        "id": "nPnQcP7iMQ5H",
        "colab_type": "code",
        "outputId": "cefdadab-99b9-47a8-c2d2-464eeec2e649",
        "colab": {
          "base_uri": "https://localhost:8080/",
          "height": 51
        }
      },
      "source": [
        "print(lab.shape)\n",
        "print(train.shape)"
      ],
      "execution_count": 6,
      "outputs": [
        {
          "output_type": "stream",
          "text": [
            "(50000,)\n",
            "(50000, 3072)\n"
          ],
          "name": "stdout"
        }
      ]
    },
    {
      "cell_type": "markdown",
      "metadata": {
        "id": "9jGbOi-fl_NQ",
        "colab_type": "text"
      },
      "source": [
        "## **Data prepossessing (PCA) / Split data into train and test**"
      ]
    },
    {
      "cell_type": "code",
      "metadata": {
        "id": "xv0A6ApEdDqN",
        "colab_type": "code",
        "outputId": "c5ebebda-8449-4fc8-9cfc-222dc295b3c6",
        "colab": {
          "base_uri": "https://localhost:8080/",
          "height": 34
        }
      },
      "source": [
        "from sklearn.decomposition import PCA\n",
        "train=PCA(.60).fit_transform(train)\n",
        "X_train, X_test, y_train, y_test = train_test_split(train,lab, test_size=0.33, random_state=42)\n",
        "print(X_train.shape)"
      ],
      "execution_count": 27,
      "outputs": [
        {
          "output_type": "stream",
          "text": [
            "(33500, 3072)\n"
          ],
          "name": "stdout"
        }
      ]
    },
    {
      "cell_type": "markdown",
      "metadata": {
        "id": "sBaHn2dxmctT",
        "colab_type": "text"
      },
      "source": [
        "## **LinearSVM in different C value**"
      ]
    },
    {
      "cell_type": "markdown",
      "metadata": {
        "id": "wN5Wbg23nSU6",
        "colab_type": "text"
      },
      "source": [
        "### **C = 0.1**"
      ]
    },
    {
      "cell_type": "code",
      "metadata": {
        "id": "gPo7rMK42Frg",
        "colab_type": "code",
        "colab": {
          "base_uri": "https://localhost:8080/",
          "height": 510
        },
        "outputId": "5ab48765-efad-4259-8bc8-85daded64e1c"
      },
      "source": [
        "from sklearn.svm import LinearSVC\n",
        "from sklearn.metrics import classification_report\n",
        "clf=LinearSVC(C=0.1,dual=False)\n",
        "clf.fit(X_train,y_train)\n",
        "prediction=clf.predict(X_test)\n",
        "pred_labels = prediction == y_test\n",
        "acc=0.0\n",
        "for i in pred_labels:\n",
        "    if i==True:\n",
        "        acc+=1\n",
        "print('SVM accuracy=',(acc)/len(pred_labels)*100,'%')\n",
        "print(classification_report(y_test,prediction,labels=np.unique(prediction)))\n",
        "from sklearn.metrics import f1_score\n",
        "\n",
        "print(f1_score(y_test,prediction,average='macro'))\n",
        "from sklearn.metrics import confusion_matrix\n",
        "\n",
        "print(confusion_matrix(y_test,prediction))"
      ],
      "execution_count": 11,
      "outputs": [
        {
          "output_type": "stream",
          "text": [
            "SVM accuracy= 28.224242424242423 %\n",
            "              precision    recall  f1-score   support\n",
            "\n",
            "           0       0.33      0.43      0.38      1628\n",
            "           1       0.23      0.17      0.19      1614\n",
            "           2       0.26      0.03      0.06      1645\n",
            "           3       0.17      0.02      0.03      1693\n",
            "           4       0.21      0.11      0.14      1582\n",
            "           5       0.28      0.39      0.33      1694\n",
            "           6       0.23      0.50      0.32      1599\n",
            "           7       0.29      0.16      0.21      1662\n",
            "           8       0.35      0.56      0.43      1692\n",
            "           9       0.29      0.44      0.35      1691\n",
            "\n",
            "    accuracy                           0.28     16500\n",
            "   macro avg       0.26      0.28      0.24     16500\n",
            "weighted avg       0.27      0.28      0.24     16500\n",
            "\n",
            "0.24385111560271588\n",
            "[[707  67   5   6  17  67  81  25 431 222]\n",
            " [179 269  11  18  76  86 201  38 348 388]\n",
            " [266 134  57  19  87 213 522  85 136 126]\n",
            " [153 119  34  29  96 511 361 141  87 162]\n",
            " [125  97  19  22 170 227 632  66  88 136]\n",
            " [131  82  33  28  75 665 333 131 123  93]\n",
            " [ 70  93  13  15  72 252 794 110  44 136]\n",
            " [ 91  85  28  20 157 212 369 272 128 300]\n",
            " [264  79   3  10  13  95  16  15 948 249]\n",
            " [146 136  15   3  42  44 131  60 368 746]]\n"
          ],
          "name": "stdout"
        }
      ]
    },
    {
      "cell_type": "markdown",
      "metadata": {
        "id": "rGkrn2I1nXy4",
        "colab_type": "text"
      },
      "source": [
        "### **C = 0.01**"
      ]
    },
    {
      "cell_type": "code",
      "metadata": {
        "id": "jvlj3wn2VpM6",
        "colab_type": "code",
        "colab": {
          "base_uri": "https://localhost:8080/",
          "height": 510
        },
        "outputId": "c145df8d-02fe-40fd-89ce-676d8ed199c1"
      },
      "source": [
        "from sklearn.svm import LinearSVC\n",
        "from sklearn.metrics import classification_report\n",
        "clf=LinearSVC(C=0.01,dual=False)\n",
        "clf.fit(X_train,y_train)\n",
        "prediction=clf.predict(X_test)\n",
        "pred_labels = prediction == y_test\n",
        "acc=0.0\n",
        "for i in pred_labels:\n",
        "    if i==True:\n",
        "        acc+=1\n",
        "print('SVM accuracy=',(acc)/len(pred_labels)*100,'%')\n",
        "print(classification_report(y_test,prediction,labels=np.unique(prediction)))\n",
        "from sklearn.metrics import f1_score\n",
        "\n",
        "print(f1_score(y_test,prediction,average='macro'))\n",
        "from sklearn.metrics import confusion_matrix\n",
        "\n",
        "print(confusion_matrix(y_test,prediction))"
      ],
      "execution_count": 12,
      "outputs": [
        {
          "output_type": "stream",
          "text": [
            "SVM accuracy= 28.242424242424242 %\n",
            "              precision    recall  f1-score   support\n",
            "\n",
            "           0       0.33      0.43      0.38      1628\n",
            "           1       0.23      0.17      0.19      1614\n",
            "           2       0.26      0.03      0.06      1645\n",
            "           3       0.17      0.02      0.03      1693\n",
            "           4       0.21      0.11      0.14      1582\n",
            "           5       0.28      0.39      0.33      1694\n",
            "           6       0.23      0.50      0.32      1599\n",
            "           7       0.29      0.16      0.21      1662\n",
            "           8       0.35      0.56      0.43      1692\n",
            "           9       0.29      0.44      0.35      1691\n",
            "\n",
            "    accuracy                           0.28     16500\n",
            "   macro avg       0.27      0.28      0.24     16500\n",
            "weighted avg       0.27      0.28      0.24     16500\n",
            "\n",
            "0.24397584157364882\n",
            "[[708  66   5   6  17  67  81  25 431 222]\n",
            " [179 269  11  18  76  86 201  38 348 388]\n",
            " [265 134  57  19  85 213 523  86 137 126]\n",
            " [154 119  34  29  95 511 361 141  87 162]\n",
            " [125  97  19  22 170 228 631  66  88 136]\n",
            " [131  82  33  28  76 666 331 131 123  93]\n",
            " [ 72  91  13  15  72 252 794 110  45 135]\n",
            " [ 92  85  28  20 157 212 369 272 127 300]\n",
            " [265  77   3  10  13  95  16  15 948 250]\n",
            " [146 136  15   3  42  43 131  60 368 747]]\n"
          ],
          "name": "stdout"
        }
      ]
    },
    {
      "cell_type": "markdown",
      "metadata": {
        "id": "IpMgcfyMnoyp",
        "colab_type": "text"
      },
      "source": [
        "### **C = 1**"
      ]
    },
    {
      "cell_type": "code",
      "metadata": {
        "id": "pcm9cfxlVtxc",
        "colab_type": "code",
        "colab": {
          "base_uri": "https://localhost:8080/",
          "height": 510
        },
        "outputId": "8246b96d-fa20-4bfe-ee27-6b6c56c9b555"
      },
      "source": [
        "from sklearn.svm import LinearSVC\n",
        "from sklearn.metrics import classification_report\n",
        "clf=LinearSVC(C=1,dual=False)\n",
        "clf.fit(X_train,y_train)\n",
        "prediction=clf.predict(X_test)\n",
        "pred_labels = prediction == y_test\n",
        "acc=0.0\n",
        "for i in pred_labels:\n",
        "    if i==True:\n",
        "        acc+=1\n",
        "print('SVM accuracy=',(acc)/len(pred_labels)*100,'%')\n",
        "print(classification_report(y_test,prediction,labels=np.unique(prediction)))\n",
        "from sklearn.metrics import f1_score\n",
        "\n",
        "print(f1_score(y_test,prediction,average='macro'))\n",
        "from sklearn.metrics import confusion_matrix\n",
        "\n",
        "print(confusion_matrix(y_test,prediction))"
      ],
      "execution_count": 13,
      "outputs": [
        {
          "output_type": "stream",
          "text": [
            "SVM accuracy= 28.224242424242423 %\n",
            "              precision    recall  f1-score   support\n",
            "\n",
            "           0       0.33      0.43      0.38      1628\n",
            "           1       0.23      0.17      0.19      1614\n",
            "           2       0.26      0.03      0.06      1645\n",
            "           3       0.17      0.02      0.03      1693\n",
            "           4       0.21      0.11      0.14      1582\n",
            "           5       0.28      0.39      0.33      1694\n",
            "           6       0.23      0.50      0.32      1599\n",
            "           7       0.29      0.16      0.21      1662\n",
            "           8       0.35      0.56      0.43      1692\n",
            "           9       0.29      0.44      0.35      1691\n",
            "\n",
            "    accuracy                           0.28     16500\n",
            "   macro avg       0.26      0.28      0.24     16500\n",
            "weighted avg       0.27      0.28      0.24     16500\n",
            "\n",
            "0.2438542533838191\n",
            "[[707  67   5   6  17  67  81  25 430 223]\n",
            " [179 269  11  18  76  86 201  38 348 388]\n",
            " [266 134  57  19  87 213 522  85 136 126]\n",
            " [153 119  34  29  96 511 361 141  87 162]\n",
            " [125  97  19  22 170 227 632  66  88 136]\n",
            " [131  82  33  28  75 665 333 131 123  93]\n",
            " [ 70  93  13  15  72 252 794 110  44 136]\n",
            " [ 91  85  28  20 157 212 369 272 127 301]\n",
            " [264  79   3  10  13  95  16  15 948 249]\n",
            " [146 136  15   3  42  44 131  60 368 746]]\n"
          ],
          "name": "stdout"
        }
      ]
    },
    {
      "cell_type": "markdown",
      "metadata": {
        "id": "bfBOADDJns4v",
        "colab_type": "text"
      },
      "source": [
        "### **C = 10**"
      ]
    },
    {
      "cell_type": "code",
      "metadata": {
        "id": "GrEy46TcVw8r",
        "colab_type": "code",
        "colab": {
          "base_uri": "https://localhost:8080/",
          "height": 510
        },
        "outputId": "5a24f95b-1111-4428-e83e-9fda30963da4"
      },
      "source": [
        "from sklearn.svm import LinearSVC\n",
        "from sklearn.metrics import classification_report\n",
        "clf=LinearSVC(C=10,dual=False)\n",
        "clf.fit(X_train,y_train)\n",
        "prediction=clf.predict(X_test)\n",
        "pred_labels = prediction == y_test\n",
        "acc=0.0\n",
        "for i in pred_labels:\n",
        "    if i==True:\n",
        "        acc+=1\n",
        "print('SVM accuracy=',(acc)/len(pred_labels)*100,'%')\n",
        "print(classification_report(y_test,prediction,labels=np.unique(prediction)))\n",
        "from sklearn.metrics import f1_score\n",
        "\n",
        "print(f1_score(y_test,prediction,average='macro'))\n",
        "from sklearn.metrics import confusion_matrix\n",
        "\n",
        "print(confusion_matrix(y_test,prediction))"
      ],
      "execution_count": 14,
      "outputs": [
        {
          "output_type": "stream",
          "text": [
            "SVM accuracy= 28.224242424242423 %\n",
            "              precision    recall  f1-score   support\n",
            "\n",
            "           0       0.33      0.43      0.38      1628\n",
            "           1       0.23      0.17      0.19      1614\n",
            "           2       0.26      0.03      0.06      1645\n",
            "           3       0.17      0.02      0.03      1693\n",
            "           4       0.21      0.11      0.14      1582\n",
            "           5       0.28      0.39      0.33      1694\n",
            "           6       0.23      0.50      0.32      1599\n",
            "           7       0.29      0.16      0.21      1662\n",
            "           8       0.35      0.56      0.43      1692\n",
            "           9       0.29      0.44      0.35      1691\n",
            "\n",
            "    accuracy                           0.28     16500\n",
            "   macro avg       0.26      0.28      0.24     16500\n",
            "weighted avg       0.27      0.28      0.24     16500\n",
            "\n",
            "0.2438542533838191\n",
            "[[707  67   5   6  17  67  81  25 430 223]\n",
            " [179 269  11  18  76  86 201  38 348 388]\n",
            " [266 134  57  19  87 213 522  85 136 126]\n",
            " [153 119  34  29  96 511 361 141  87 162]\n",
            " [125  97  19  22 170 227 632  66  88 136]\n",
            " [131  82  33  28  75 665 333 131 123  93]\n",
            " [ 70  93  13  15  72 252 794 110  44 136]\n",
            " [ 91  85  28  20 157 212 369 272 127 301]\n",
            " [264  79   3  10  13  95  16  15 948 249]\n",
            " [146 136  15   3  42  44 131  60 368 746]]\n"
          ],
          "name": "stdout"
        }
      ]
    },
    {
      "cell_type": "markdown",
      "metadata": {
        "id": "gbW-Hqnlnv4J",
        "colab_type": "text"
      },
      "source": [
        "### **C = 100**"
      ]
    },
    {
      "cell_type": "code",
      "metadata": {
        "id": "gSpkqhvlVz74",
        "colab_type": "code",
        "colab": {
          "base_uri": "https://localhost:8080/",
          "height": 510
        },
        "outputId": "4cb62972-a5fa-4e75-e3e8-35420c5b3889"
      },
      "source": [
        "from sklearn.svm import LinearSVC\n",
        "from sklearn.metrics import classification_report\n",
        "clf=LinearSVC(C=100,dual=False)\n",
        "clf.fit(X_train,y_train)\n",
        "prediction=clf.predict(X_test)\n",
        "pred_labels = prediction == y_test\n",
        "acc=0.0\n",
        "for i in pred_labels:\n",
        "    if i==True:\n",
        "        acc+=1\n",
        "print('SVM accuracy=',(acc)/len(pred_labels)*100,'%')\n",
        "print(classification_report(y_test,prediction,labels=np.unique(prediction)))\n",
        "from sklearn.metrics import f1_score\n",
        "\n",
        "print(f1_score(y_test,prediction,average='macro'))\n",
        "from sklearn.metrics import confusion_matrix\n",
        "\n",
        "print(confusion_matrix(y_test,prediction))"
      ],
      "execution_count": 15,
      "outputs": [
        {
          "output_type": "stream",
          "text": [
            "SVM accuracy= 28.224242424242423 %\n",
            "              precision    recall  f1-score   support\n",
            "\n",
            "           0       0.33      0.43      0.38      1628\n",
            "           1       0.23      0.17      0.19      1614\n",
            "           2       0.26      0.03      0.06      1645\n",
            "           3       0.17      0.02      0.03      1693\n",
            "           4       0.21      0.11      0.14      1582\n",
            "           5       0.28      0.39      0.33      1694\n",
            "           6       0.23      0.50      0.32      1599\n",
            "           7       0.29      0.16      0.21      1662\n",
            "           8       0.35      0.56      0.43      1692\n",
            "           9       0.29      0.44      0.35      1691\n",
            "\n",
            "    accuracy                           0.28     16500\n",
            "   macro avg       0.26      0.28      0.24     16500\n",
            "weighted avg       0.27      0.28      0.24     16500\n",
            "\n",
            "0.2438542533838191\n",
            "[[707  67   5   6  17  67  81  25 430 223]\n",
            " [179 269  11  18  76  86 201  38 348 388]\n",
            " [266 134  57  19  87 213 522  85 136 126]\n",
            " [153 119  34  29  96 511 361 141  87 162]\n",
            " [125  97  19  22 170 227 632  66  88 136]\n",
            " [131  82  33  28  75 665 333 131 123  93]\n",
            " [ 70  93  13  15  72 252 794 110  44 136]\n",
            " [ 91  85  28  20 157 212 369 272 127 301]\n",
            " [264  79   3  10  13  95  16  15 948 249]\n",
            " [146 136  15   3  42  44 131  60 368 746]]\n"
          ],
          "name": "stdout"
        }
      ]
    },
    {
      "cell_type": "markdown",
      "metadata": {
        "id": "AKzzr9-Xn0Gz",
        "colab_type": "text"
      },
      "source": [
        "### **Data train using KNN**"
      ]
    },
    {
      "cell_type": "code",
      "metadata": {
        "id": "PGl8uXJiXrQv",
        "colab_type": "code",
        "colab": {}
      },
      "source": [
        "import pandas as pd\n",
        "import numpy as np\n",
        "class KNNClassifier:\n",
        "    def __init__(self,n=3):\n",
        "        self.k=n\n",
        "        self.train_d=None\n",
        "        self.train_l=None\n",
        "        self.test_d=None\n",
        "    def E(self):\n",
        "      m=0\n",
        "      result=[]\n",
        "      for j in self.test_d:\n",
        "        m=0\n",
        "        dist=[]\n",
        "        for i in self.train_d:\n",
        "          dist.append([np.linalg.norm(i-j),m])\n",
        "          m=m+1\n",
        "        dist=sorted(dist)\n",
        "        re=[]\n",
        "        for l in range(self.k):\n",
        "          re.append(int(self.train_l[dist[l][1]]))\n",
        "        result.append(max(set(re), key = re.count))\n",
        "      return result\n",
        "    \n",
        "    def predict(self,data):\n",
        "        self.test_d=data\n",
        "        result=self.E()\n",
        "        return result\n",
        "    \n",
        "    \n",
        "    def train(self,data,label):\n",
        "        self.train_d=data\n",
        "        self.train_l=label"
      ],
      "execution_count": 0,
      "outputs": []
    },
    {
      "cell_type": "code",
      "metadata": {
        "id": "3kD1jB1XXtSY",
        "colab_type": "code",
        "colab": {
          "base_uri": "https://localhost:8080/",
          "height": 510
        },
        "outputId": "5d49e398-4ae5-4747-955e-3273a388454d"
      },
      "source": [
        "knn_classifier = KNNClassifier()\n",
        "knn_classifier.train(X_train,y_train)\n",
        "predictions = knn_classifier.predict(X_test)\n",
        "\n",
        "prediction=clf.predict(X_test)\n",
        "pred_labels = prediction == y_test\n",
        "acc=0.0\n",
        "for i in pred_labels:\n",
        "    if i==True:\n",
        "        acc+=1\n",
        "print('KNN accuracy=',(acc)/len(pred_labels)*100,'%')\n",
        "print(classification_report(y_test,prediction,labels=np.unique(prediction)))\n",
        "from sklearn.metrics import f1_score\n",
        "\n",
        "print(f1_score(y_test,prediction,average='macro'))\n",
        "from sklearn.metrics import confusion_matrix\n",
        "\n",
        "print(confusion_matrix(y_test,prediction))"
      ],
      "execution_count": 17,
      "outputs": [
        {
          "output_type": "stream",
          "text": [
            "KNN accuracy= 28.224242424242423 %\n",
            "              precision    recall  f1-score   support\n",
            "\n",
            "           0       0.33      0.43      0.38      1628\n",
            "           1       0.23      0.17      0.19      1614\n",
            "           2       0.26      0.03      0.06      1645\n",
            "           3       0.17      0.02      0.03      1693\n",
            "           4       0.21      0.11      0.14      1582\n",
            "           5       0.28      0.39      0.33      1694\n",
            "           6       0.23      0.50      0.32      1599\n",
            "           7       0.29      0.16      0.21      1662\n",
            "           8       0.35      0.56      0.43      1692\n",
            "           9       0.29      0.44      0.35      1691\n",
            "\n",
            "    accuracy                           0.28     16500\n",
            "   macro avg       0.26      0.28      0.24     16500\n",
            "weighted avg       0.27      0.28      0.24     16500\n",
            "\n",
            "0.2438542533838191\n",
            "[[707  67   5   6  17  67  81  25 430 223]\n",
            " [179 269  11  18  76  86 201  38 348 388]\n",
            " [266 134  57  19  87 213 522  85 136 126]\n",
            " [153 119  34  29  96 511 361 141  87 162]\n",
            " [125  97  19  22 170 227 632  66  88 136]\n",
            " [131  82  33  28  75 665 333 131 123  93]\n",
            " [ 70  93  13  15  72 252 794 110  44 136]\n",
            " [ 91  85  28  20 157 212 369 272 127 301]\n",
            " [264  79   3  10  13  95  16  15 948 249]\n",
            " [146 136  15   3  42  44 131  60 368 746]]\n"
          ],
          "name": "stdout"
        }
      ]
    },
    {
      "cell_type": "markdown",
      "metadata": {
        "id": "LV1IqL59w4XA",
        "colab_type": "text"
      },
      "source": [
        "### **Support Vector and Support Image**"
      ]
    },
    {
      "cell_type": "code",
      "metadata": {
        "id": "QXBI9S1rjlvB",
        "colab_type": "code",
        "colab": {
          "base_uri": "https://localhost:8080/",
          "height": 461
        },
        "outputId": "e7460345-9d39-42be-ebdb-8cc03093e005"
      },
      "source": [
        "from sklearn import linear_model\n",
        "import matplotlib.pyplot as plt\n",
        "clf = linear_model.SGDClassifier(max_iter=100000,n_jobs=-1)\n",
        "clf.fit(X_train, y_train)\n",
        "fig = plt.figure(figsize=(32, 32))\n",
        "ind = 1\n",
        "for i in X_test:\n",
        "    for c in clf.coef_:\n",
        "        if abs(np.dot(c,i)) <= 1:\n",
        "            print(i)\n",
        "            fig.add_subplot(4,5,ind)\n",
        "            plt.imshow(i[:1024].reshape(32,32))\n",
        "            ind += 1\n",
        "plt.show()"
      ],
      "execution_count": 47,
      "outputs": [
        {
          "output_type": "stream",
          "text": [
            "[20 25 32 ... 52 41 32]\n",
            "[ 96  32  43 ... 102 114 117]\n",
            "[ 85 128 126 ...  39  66  62]\n",
            "[24 50 58 ... 27 29 28]\n",
            "[151 150 152 ... 175 170 155]\n"
          ],
          "name": "stdout"
        },
        {
          "output_type": "display_data",
          "data": {
            "image/png": "[encoded data removed]",
            "text/plain": [
              "<Figure size 2304x2304 with 5 Axes>"
            ]
          },
          "metadata": {
            "tags": []
          }
        }
      ]
    }
  ]
}