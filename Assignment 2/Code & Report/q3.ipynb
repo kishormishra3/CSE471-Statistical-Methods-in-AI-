{
  "nbformat": 4,
  "nbformat_minor": 0,
  "metadata": {
    "colab": {
      "name": "A2_q3.ipynb",
      "provenance": [],
      "collapsed_sections": []
    },
    "kernelspec": {
      "name": "python3",
      "display_name": "Python 3"
    },
    "accelerator": "GPU"
  },
  "cells": [
    {
      "cell_type": "markdown",
      "metadata": {
        "id": "OV20D4itPOb5",
        "colab_type": "text"
      },
      "source": [
        "### **Question 3**"
      ]
    },
    {
      "cell_type": "code",
      "metadata": {
        "id": "jm2Na3WUowvg",
        "colab_type": "code",
        "colab": {}
      },
      "source": [
        "import numpy as np\n",
        "import pandas as pd"
      ],
      "execution_count": 0,
      "outputs": []
    },
    {
      "cell_type": "code",
      "metadata": {
        "id": "sOtKY7Oes5RT",
        "colab_type": "code",
        "colab": {}
      },
      "source": [
        "df = pd.read_csv('/content/drive/My Drive/Datasets/Question-3/airfoil.csv',header=None)"
      ],
      "execution_count": 0,
      "outputs": []
    },
    {
      "cell_type": "markdown",
      "metadata": {
        "id": "T7zspcCJPdbR",
        "colab_type": "text"
      },
      "source": [
        "**Data**"
      ]
    },
    {
      "cell_type": "code",
      "metadata": {
        "id": "sUl9HyzftNqV",
        "colab_type": "code",
        "outputId": "cae74bdb-687c-4326-9a8a-c7b7f0b2a823",
        "colab": {
          "base_uri": "https://localhost:8080/",
          "height": 419
        }
      },
      "source": [
        "df"
      ],
      "execution_count": 0,
      "outputs": [
        {
          "output_type": "execute_result",
          "data": {
            "text/html": [
              "<div>\n",
              "<style scoped>\n",
              "    .dataframe tbody tr th:only-of-type {\n",
              "        vertical-align: middle;\n",
              "    }\n",
              "\n",
              "    .dataframe tbody tr th {\n",
              "        vertical-align: top;\n",
              "    }\n",
              "\n",
              "    .dataframe thead th {\n",
              "        text-align: right;\n",
              "    }\n",
              "</style>\n",
              "<table border=\"1\" class=\"dataframe\">\n",
              "  <thead>\n",
              "    <tr style=\"text-align: right;\">\n",
              "      <th></th>\n",
              "      <th>0</th>\n",
              "      <th>1</th>\n",
              "      <th>2</th>\n",
              "      <th>3</th>\n",
              "      <th>4</th>\n",
              "      <th>5</th>\n",
              "    </tr>\n",
              "  </thead>\n",
              "  <tbody>\n",
              "    <tr>\n",
              "      <th>0</th>\n",
              "      <td>8000.0</td>\n",
              "      <td>4.0</td>\n",
              "      <td>0.2286</td>\n",
              "      <td>39.6</td>\n",
              "      <td>0.004738</td>\n",
              "      <td>113.129</td>\n",
              "    </tr>\n",
              "    <tr>\n",
              "      <th>1</th>\n",
              "      <td>6300.0</td>\n",
              "      <td>0.0</td>\n",
              "      <td>0.0508</td>\n",
              "      <td>55.5</td>\n",
              "      <td>0.000762</td>\n",
              "      <td>132.796</td>\n",
              "    </tr>\n",
              "    <tr>\n",
              "      <th>2</th>\n",
              "      <td>400.0</td>\n",
              "      <td>4.0</td>\n",
              "      <td>0.2286</td>\n",
              "      <td>55.5</td>\n",
              "      <td>0.004286</td>\n",
              "      <td>123.274</td>\n",
              "    </tr>\n",
              "    <tr>\n",
              "      <th>3</th>\n",
              "      <td>1250.0</td>\n",
              "      <td>15.4</td>\n",
              "      <td>0.0508</td>\n",
              "      <td>39.6</td>\n",
              "      <td>0.028259</td>\n",
              "      <td>126.743</td>\n",
              "    </tr>\n",
              "    <tr>\n",
              "      <th>4</th>\n",
              "      <td>800.0</td>\n",
              "      <td>7.3</td>\n",
              "      <td>0.2286</td>\n",
              "      <td>39.6</td>\n",
              "      <td>0.012348</td>\n",
              "      <td>126.299</td>\n",
              "    </tr>\n",
              "    <tr>\n",
              "      <th>...</th>\n",
              "      <td>...</td>\n",
              "      <td>...</td>\n",
              "      <td>...</td>\n",
              "      <td>...</td>\n",
              "      <td>...</td>\n",
              "      <td>...</td>\n",
              "    </tr>\n",
              "    <tr>\n",
              "      <th>1197</th>\n",
              "      <td>3150.0</td>\n",
              "      <td>5.4</td>\n",
              "      <td>0.1524</td>\n",
              "      <td>31.7</td>\n",
              "      <td>0.005255</td>\n",
              "      <td>118.291</td>\n",
              "    </tr>\n",
              "    <tr>\n",
              "      <th>1198</th>\n",
              "      <td>2500.0</td>\n",
              "      <td>19.7</td>\n",
              "      <td>0.0508</td>\n",
              "      <td>39.6</td>\n",
              "      <td>0.036484</td>\n",
              "      <td>116.184</td>\n",
              "    </tr>\n",
              "    <tr>\n",
              "      <th>1199</th>\n",
              "      <td>800.0</td>\n",
              "      <td>2.0</td>\n",
              "      <td>0.2286</td>\n",
              "      <td>55.5</td>\n",
              "      <td>0.003135</td>\n",
              "      <td>128.492</td>\n",
              "    </tr>\n",
              "    <tr>\n",
              "      <th>1200</th>\n",
              "      <td>3150.0</td>\n",
              "      <td>3.3</td>\n",
              "      <td>0.1016</td>\n",
              "      <td>71.3</td>\n",
              "      <td>0.002028</td>\n",
              "      <td>132.114</td>\n",
              "    </tr>\n",
              "    <tr>\n",
              "      <th>1201</th>\n",
              "      <td>630.0</td>\n",
              "      <td>4.0</td>\n",
              "      <td>0.3048</td>\n",
              "      <td>39.6</td>\n",
              "      <td>0.005796</td>\n",
              "      <td>131.073</td>\n",
              "    </tr>\n",
              "  </tbody>\n",
              "</table>\n",
              "<p>1202 rows × 6 columns</p>\n",
              "</div>"
            ],
            "text/plain": [
              "           0     1       2     3         4        5\n",
              "0     8000.0   4.0  0.2286  39.6  0.004738  113.129\n",
              "1     6300.0   0.0  0.0508  55.5  0.000762  132.796\n",
              "2      400.0   4.0  0.2286  55.5  0.004286  123.274\n",
              "3     1250.0  15.4  0.0508  39.6  0.028259  126.743\n",
              "4      800.0   7.3  0.2286  39.6  0.012348  126.299\n",
              "...      ...   ...     ...   ...       ...      ...\n",
              "1197  3150.0   5.4  0.1524  31.7  0.005255  118.291\n",
              "1198  2500.0  19.7  0.0508  39.6  0.036484  116.184\n",
              "1199   800.0   2.0  0.2286  55.5  0.003135  128.492\n",
              "1200  3150.0   3.3  0.1016  71.3  0.002028  132.114\n",
              "1201   630.0   4.0  0.3048  39.6  0.005796  131.073\n",
              "\n",
              "[1202 rows x 6 columns]"
            ]
          },
          "metadata": {
            "tags": []
          },
          "execution_count": 3
        }
      ]
    },
    {
      "cell_type": "code",
      "metadata": {
        "id": "DfLTGrk_3o6k",
        "colab_type": "code",
        "colab": {}
      },
      "source": [
        "label=df.values[:,-1]\n",
        "data=df.values[:,:-1]\n",
        "from sklearn.preprocessing import MinMaxScaler\n",
        "scaler = MinMaxScaler()\n",
        "scaler.fit(data)\n",
        "data=scaler.transform(data)"
      ],
      "execution_count": 0,
      "outputs": []
    },
    {
      "cell_type": "markdown",
      "metadata": {
        "id": "HbKW0jaMPjwh",
        "colab_type": "text"
      },
      "source": [
        "**After Normalization**"
      ]
    },
    {
      "cell_type": "code",
      "metadata": {
        "id": "dzvjXS1a5sxM",
        "colab_type": "code",
        "outputId": "2ecf2bf1-0b50-4b11-d914-1d33d974100a",
        "colab": {
          "base_uri": "https://localhost:8080/",
          "height": 419
        }
      },
      "source": [
        "df1 = pd.DataFrame(data)\n",
        "df1.insert(0,5,1)\n",
        "data=df1.values\n",
        "# data=np.transpose(data)"
      ],
      "execution_count": 0,
      "outputs": [
        {
          "output_type": "execute_result",
          "data": {
            "text/html": [
              "<div>\n",
              "<style scoped>\n",
              "    .dataframe tbody tr th:only-of-type {\n",
              "        vertical-align: middle;\n",
              "    }\n",
              "\n",
              "    .dataframe tbody tr th {\n",
              "        vertical-align: top;\n",
              "    }\n",
              "\n",
              "    .dataframe thead th {\n",
              "        text-align: right;\n",
              "    }\n",
              "</style>\n",
              "<table border=\"1\" class=\"dataframe\">\n",
              "  <thead>\n",
              "    <tr style=\"text-align: right;\">\n",
              "      <th></th>\n",
              "      <th>5</th>\n",
              "      <th>0</th>\n",
              "      <th>1</th>\n",
              "      <th>2</th>\n",
              "      <th>3</th>\n",
              "      <th>4</th>\n",
              "    </tr>\n",
              "  </thead>\n",
              "  <tbody>\n",
              "    <tr>\n",
              "      <th>0</th>\n",
              "      <td>1</td>\n",
              "      <td>0.393939</td>\n",
              "      <td>0.180180</td>\n",
              "      <td>0.727273</td>\n",
              "      <td>0.199495</td>\n",
              "      <td>0.074768</td>\n",
              "    </tr>\n",
              "    <tr>\n",
              "      <th>1</th>\n",
              "      <td>1</td>\n",
              "      <td>0.308081</td>\n",
              "      <td>0.000000</td>\n",
              "      <td>0.090909</td>\n",
              "      <td>0.601010</td>\n",
              "      <td>0.006227</td>\n",
              "    </tr>\n",
              "    <tr>\n",
              "      <th>2</th>\n",
              "      <td>1</td>\n",
              "      <td>0.010101</td>\n",
              "      <td>0.180180</td>\n",
              "      <td>0.727273</td>\n",
              "      <td>0.601010</td>\n",
              "      <td>0.066979</td>\n",
              "    </tr>\n",
              "    <tr>\n",
              "      <th>3</th>\n",
              "      <td>1</td>\n",
              "      <td>0.053030</td>\n",
              "      <td>0.693694</td>\n",
              "      <td>0.090909</td>\n",
              "      <td>0.199495</td>\n",
              "      <td>0.480233</td>\n",
              "    </tr>\n",
              "    <tr>\n",
              "      <th>4</th>\n",
              "      <td>1</td>\n",
              "      <td>0.030303</td>\n",
              "      <td>0.328829</td>\n",
              "      <td>0.727273</td>\n",
              "      <td>0.199495</td>\n",
              "      <td>0.205952</td>\n",
              "    </tr>\n",
              "    <tr>\n",
              "      <th>...</th>\n",
              "      <td>...</td>\n",
              "      <td>...</td>\n",
              "      <td>...</td>\n",
              "      <td>...</td>\n",
              "      <td>...</td>\n",
              "      <td>...</td>\n",
              "    </tr>\n",
              "    <tr>\n",
              "      <th>1197</th>\n",
              "      <td>1</td>\n",
              "      <td>0.148990</td>\n",
              "      <td>0.243243</td>\n",
              "      <td>0.454545</td>\n",
              "      <td>0.000000</td>\n",
              "      <td>0.083675</td>\n",
              "    </tr>\n",
              "    <tr>\n",
              "      <th>1198</th>\n",
              "      <td>1</td>\n",
              "      <td>0.116162</td>\n",
              "      <td>0.887387</td>\n",
              "      <td>0.090909</td>\n",
              "      <td>0.199495</td>\n",
              "      <td>0.622012</td>\n",
              "    </tr>\n",
              "    <tr>\n",
              "      <th>1199</th>\n",
              "      <td>1</td>\n",
              "      <td>0.030303</td>\n",
              "      <td>0.090090</td>\n",
              "      <td>0.727273</td>\n",
              "      <td>0.601010</td>\n",
              "      <td>0.047139</td>\n",
              "    </tr>\n",
              "    <tr>\n",
              "      <th>1200</th>\n",
              "      <td>1</td>\n",
              "      <td>0.148990</td>\n",
              "      <td>0.148649</td>\n",
              "      <td>0.272727</td>\n",
              "      <td>1.000000</td>\n",
              "      <td>0.028056</td>\n",
              "    </tr>\n",
              "    <tr>\n",
              "      <th>1201</th>\n",
              "      <td>1</td>\n",
              "      <td>0.021717</td>\n",
              "      <td>0.180180</td>\n",
              "      <td>1.000000</td>\n",
              "      <td>0.199495</td>\n",
              "      <td>0.093012</td>\n",
              "    </tr>\n",
              "  </tbody>\n",
              "</table>\n",
              "<p>1202 rows × 6 columns</p>\n",
              "</div>"
            ],
            "text/plain": [
              "      5         0         1         2         3         4\n",
              "0     1  0.393939  0.180180  0.727273  0.199495  0.074768\n",
              "1     1  0.308081  0.000000  0.090909  0.601010  0.006227\n",
              "2     1  0.010101  0.180180  0.727273  0.601010  0.066979\n",
              "3     1  0.053030  0.693694  0.090909  0.199495  0.480233\n",
              "4     1  0.030303  0.328829  0.727273  0.199495  0.205952\n",
              "...  ..       ...       ...       ...       ...       ...\n",
              "1197  1  0.148990  0.243243  0.454545  0.000000  0.083675\n",
              "1198  1  0.116162  0.887387  0.090909  0.199495  0.622012\n",
              "1199  1  0.030303  0.090090  0.727273  0.601010  0.047139\n",
              "1200  1  0.148990  0.148649  0.272727  1.000000  0.028056\n",
              "1201  1  0.021717  0.180180  1.000000  0.199495  0.093012\n",
              "\n",
              "[1202 rows x 6 columns]"
            ]
          },
          "metadata": {
            "tags": []
          },
          "execution_count": 57
        }
      ]
    },
    {
      "cell_type": "markdown",
      "metadata": {
        "id": "Ii4VrRntPvO3",
        "colab_type": "text"
      },
      "source": [
        "**Theta initialize**"
      ]
    },
    {
      "cell_type": "code",
      "metadata": {
        "id": "RJIlKUfW_I9a",
        "colab_type": "code",
        "outputId": "d6011a55-30be-4c7c-ac08-2448ceec4b62",
        "colab": {
          "base_uri": "https://localhost:8080/",
          "height": 51
        }
      },
      "source": [
        "from random import random\n",
        "theta=[random(), random(),random(),random(),random(),random()]\n",
        "print(theta)\n",
        "theta=np.array(theta).reshape([1,6])\n",
        "label=label.reshape([label.shape[0],1])\n",
        "theta.shape\n",
        "data.shape"
      ],
      "execution_count": 0,
      "outputs": [
        {
          "output_type": "stream",
          "text": [
            "[0.8559348345028602, 0.22278876480096066, 0.3101479492195317, 0.46691250178147115, 0.9522804322135079, 0.22597970557771074]\n"
          ],
          "name": "stdout"
        },
        {
          "output_type": "execute_result",
          "data": {
            "text/plain": [
              "(1202, 6)"
            ]
          },
          "metadata": {
            "tags": []
          },
          "execution_count": 59
        }
      ]
    },
    {
      "cell_type": "markdown",
      "metadata": {
        "id": "G_2aVJkSP-K0",
        "colab_type": "text"
      },
      "source": [
        "**Cost** **Function**"
      ]
    },
    {
      "cell_type": "code",
      "metadata": {
        "id": "5EjV-U-TK4rv",
        "colab_type": "code",
        "colab": {}
      },
      "source": [
        "def cost_f(pre,label):\n",
        "  sum=0\n",
        "  for i in range(label.shape[0]):\n",
        "    sum = sum +(pre[i]-label[i])*(pre[i]-label[i])\n",
        "  return sum/(2* pre.shape[0])"
      ],
      "execution_count": 0,
      "outputs": []
    },
    {
      "cell_type": "markdown",
      "metadata": {
        "id": "fCdwKao0QCCn",
        "colab_type": "text"
      },
      "source": [
        " **Gradient Descent Algorithm**"
      ]
    },
    {
      "cell_type": "code",
      "metadata": {
        "id": "8WLsW9-vSEk4",
        "colab_type": "code",
        "colab": {}
      },
      "source": [
        "def grad(theta,pre,label,X,al):\n",
        "  alpha=al\n",
        "  error=(pre-label)\n",
        "  theta=theta - alpha * (np.dot(np.transpose(error),data)/label.shape[0])\n",
        "  return theta"
      ],
      "execution_count": 0,
      "outputs": []
    },
    {
      "cell_type": "code",
      "metadata": {
        "id": "_QfXV3kao97F",
        "colab_type": "code",
        "outputId": "a4b34ad8-9f39-471d-a8d4-78c6daff9432",
        "colab": {
          "base_uri": "https://localhost:8080/",
          "height": 34
        }
      },
      "source": [
        "for i in range(3000):\n",
        "  value=np.dot(theta,np.transpose(data))\n",
        "  value=value.reshape([label.shape[0],1])\n",
        "  theta=grad(theta,value,label,data)\n",
        "  value=np.dot(theta,np.transpose(data))\n",
        "  value=value.reshape([label.shape[0],1])\n",
        "  new = cost_f(value,label)\n",
        "from sklearn.metrics import r2_score\n",
        "print(r2_score(label,value))"
      ],
      "execution_count": 0,
      "outputs": [
        {
          "output_type": "stream",
          "text": [
            "0.5256635936274878\n"
          ],
          "name": "stdout"
        }
      ]
    },
    {
      "cell_type": "markdown",
      "metadata": {
        "id": "tajIbE6kb_gd",
        "colab_type": "text"
      },
      "source": [
        "# **Plot with 3 random theta**"
      ]
    },
    {
      "cell_type": "code",
      "metadata": {
        "id": "edVKtZG5RoNP",
        "colab_type": "code",
        "outputId": "f0c89549-fd79-45d7-c4f5-63840f78bd4c",
        "colab": {
          "base_uri": "https://localhost:8080/",
          "height": 295
        }
      },
      "source": [
        "from random import random\n",
        "from matplotlib import pyplot as ptl\n",
        "it=[]\n",
        "cost=[]\n",
        "y=1\n",
        "for j in range(3):\n",
        "  it=[]\n",
        "  cost=[]\n",
        "  theta=[random()*y, random()*y,random()*y,random()*y,random()*y,random()*y]\n",
        "  k=True\n",
        "  old=0\n",
        "  for i in range(2000):\n",
        "    value=np.dot(theta,np.transpose(data))\n",
        "    value=value.reshape([label.shape[0],1])\n",
        "    theta=grad(theta,value,label,data)\n",
        "    value=np.dot(theta,np.transpose(data))\n",
        "    value=value.reshape([label.shape[0],1])\n",
        "    new = cost_f(value,label)\n",
        "    if(k):\n",
        "      old=new\n",
        "      k=False\n",
        "    elif(old<=new):\n",
        "      break\n",
        "    else:\n",
        "      old=new\n",
        "    cost.append(new)\n",
        "    it.append(i)\n",
        "  if(j==1):\n",
        "    ptl.plot(it,cost,'-g',linestyle='-')\n",
        "  elif j==2:\n",
        "    ptl.plot(it,cost, ':r',linestyle=':')\n",
        "  else:\n",
        "    ptl.plot(it,cost,'-.k',linestyle='-.')\n",
        "  y=y*10\n",
        "ptl.title(\"Cost vs Iteration\")\n",
        "ptl.ylabel(\"cost\")\n",
        "ptl.xlabel(\"iteration\")\n",
        "ptl.show()"
      ],
      "execution_count": 0,
      "outputs": [
        {
          "output_type": "display_data",
          "data": {
            "image/png": "[encoded data removed]",
            "text/plain": [
              "<Figure size 432x288 with 1 Axes>"
            ]
          },
          "metadata": {
            "tags": []
          }
        }
      ]
    },
    {
      "cell_type": "markdown",
      "metadata": {
        "id": "_VF9k9xQc7qN",
        "colab_type": "text"
      },
      "source": [
        "**Plot with 3 random aplha(0.001,0.01,0.1)**"
      ]
    },
    {
      "cell_type": "code",
      "metadata": {
        "id": "TRm7cd5zcHHH",
        "colab_type": "code",
        "outputId": "0823b6f9-1f81-4aa2-df34-44b977ee5bce",
        "colab": {
          "base_uri": "https://localhost:8080/",
          "height": 295
        }
      },
      "source": [
        "from random import random\n",
        "from matplotlib import pyplot as ptl\n",
        "it=[]\n",
        "cost=[]\n",
        "y=1\n",
        "al=0.001\n",
        "theta=[random(), random(),random(),random(),random(),random()]\n",
        "old_theta=theta.copy()\n",
        "for j in range(3):\n",
        "  it=[]\n",
        "  cost=[]\n",
        "  k=True\n",
        "  old=0\n",
        "  theta=old_theta.copy()\n",
        "  for i in range(2000):\n",
        "    value=np.dot(theta,np.transpose(data))\n",
        "    value=value.reshape([label.shape[0],1])\n",
        "    theta=grad(theta,value,label,data,al)\n",
        "    value=np.dot(theta,np.transpose(data))\n",
        "    value=value.reshape([label.shape[0],1])\n",
        "    new = cost_f(value,label)\n",
        "    if(k):\n",
        "      old=new\n",
        "      k=False\n",
        "    elif(old<=new):\n",
        "      break\n",
        "    else:\n",
        "      old=new\n",
        "    cost.append(new)\n",
        "    it.append(i)\n",
        "  if(j==1):\n",
        "    ptl.plot(it,cost,'-g',linestyle='-')\n",
        "  elif j==2:\n",
        "    ptl.plot(it,cost, ':r',linestyle=':')\n",
        "  else:\n",
        "    ptl.plot(it,cost,'-.k',linestyle='-.')\n",
        "  y=y*10\n",
        "  al=al*y\n",
        "ptl.title(\"Cost vs Iteration\")\n",
        "ptl.ylabel(\"cost\")\n",
        "ptl.xlabel(\"iteration\")\n",
        "ptl.show()"
      ],
      "execution_count": 0,
      "outputs": [
        {
          "output_type": "display_data",
          "data": {
            "image/png": "[encoded data removed]",
            "text/plain": [
              "<Figure size 432x288 with 1 Axes>"
            ]
          },
          "metadata": {
            "tags": []
          }
        }
      ]
    }
  ]
}