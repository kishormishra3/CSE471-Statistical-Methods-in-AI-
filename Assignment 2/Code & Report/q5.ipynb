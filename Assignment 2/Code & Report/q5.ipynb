{
  "nbformat": 4,
  "nbformat_minor": 0,
  "metadata": {
    "colab": {
      "name": "A2_q5.ipynb",
      "provenance": [],
      "collapsed_sections": []
    },
    "kernelspec": {
      "name": "python3",
      "display_name": "Python 3"
    },
    "accelerator": "GPU"
  },
  "cells": [
    {
      "cell_type": "markdown",
      "metadata": {
        "id": "AKej9xg-rYBm",
        "colab_type": "text"
      },
      "source": [
        "# ***Question 5***"
      ]
    },
    {
      "cell_type": "code",
      "metadata": {
        "id": "UZpFmoxz6gXv",
        "colab_type": "code",
        "colab": {}
      },
      "source": [
        "import numpy as np\n",
        "import pandas as pd\n",
        "from sklearn.metrics import classification_report"
      ],
      "execution_count": 0,
      "outputs": []
    },
    {
      "cell_type": "markdown",
      "metadata": {
        "id": "wma5MRkZr1ul",
        "colab_type": "text"
      },
      "source": [
        "## **Data prepossessing**"
      ]
    },
    {
      "cell_type": "code",
      "metadata": {
        "id": "UhXCRerc7RRb",
        "colab_type": "code",
        "colab": {
          "base_uri": "https://localhost:8080/",
          "height": 255
        },
        "outputId": "7932922d-057f-4d4a-c8cf-2959a575d568"
      },
      "source": [
        "df = pd.read_csv('/content/drive/My Drive/Datasets/Question-5/Train(1).csv')\n",
        "text=df['text']\n",
        "label=df['author']\n",
        "print(df)"
      ],
      "execution_count": 2,
      "outputs": [
        {
          "output_type": "stream",
          "text": [
            "       Unnamed: 0                                               text author\n",
            "0               0  The sight of the military restored hope to tho...    MWS\n",
            "1               1  Just as the building was wiped out by a German...    HPL\n",
            "2               2                    Do you wonder how it will seem?    HPL\n",
            "3               3  My revenge is of no moment to you; yet, while ...    MWS\n",
            "4               4  If he dares to reply, you can tell him from Lu...    EAP\n",
            "...           ...                                                ...    ...\n",
            "15658       15658                         Get bald, too, very young.    HPL\n",
            "15659       15659  I performed the first part of my journey on ho...    MWS\n",
            "15660       15660  He had a narrow head, bulging, watery blue eye...    HPL\n",
            "15661       15661  There does not exist the man in England with a...    MWS\n",
            "15662       15662  \"Every man,\" he said, \"dreams about something,...    MWS\n",
            "\n",
            "[15663 rows x 3 columns]\n"
          ],
          "name": "stdout"
        }
      ]
    },
    {
      "cell_type": "code",
      "metadata": {
        "id": "B0hDLucb8603",
        "colab_type": "code",
        "colab": {}
      },
      "source": [
        "text=text.values\n",
        "label=label.values\n"
      ],
      "execution_count": 0,
      "outputs": []
    },
    {
      "cell_type": "code",
      "metadata": {
        "id": "wdXEqbnU1qKG",
        "colab_type": "code",
        "colab": {}
      },
      "source": [
        "from sklearn.feature_extraction.text import TfidfVectorizer\n",
        "from sklearn.preprocessing import normalize\n",
        "vectorizer = TfidfVectorizer()\n",
        "tf_idf_vectorizor = TfidfVectorizer(stop_words = 'english',strip_accents='unicode')\n",
        "tf_idf=tf_idf_vectorizor.fit_transform(text)\n",
        "# print(tf_idf.shape)\n",
        "# tf_idf_norm = normalize(tf_idf)\n",
        "# vec=tf_idf_norm.toarray()\n",
        "vec = tf_idf"
      ],
      "execution_count": 0,
      "outputs": []
    },
    {
      "cell_type": "markdown",
      "metadata": {
        "id": "h048hTVtNzFJ",
        "colab_type": "text"
      },
      "source": [
        "## **Split into train and validation**"
      ]
    },
    {
      "cell_type": "code",
      "metadata": {
        "id": "IjMvhLPkCD4x",
        "colab_type": "code",
        "outputId": "b709a389-b949-4ccd-e9b2-cbc16c25cfad",
        "colab": {
          "base_uri": "https://localhost:8080/",
          "height": 34
        }
      },
      "source": [
        "print(vec.shape,label.shape)\n",
        "from sklearn.model_selection import train_test_split\n",
        "X_train,X_test,y_train,y_test= train_test_split(vec,label,test_size=0.1,random_state=42)"
      ],
      "execution_count": 5,
      "outputs": [
        {
          "output_type": "stream",
          "text": [
            "(15663, 22741) (15663,)\n"
          ],
          "name": "stdout"
        }
      ]
    },
    {
      "cell_type": "markdown",
      "metadata": {
        "id": "_-0Mkc5ENlLd",
        "colab_type": "text"
      },
      "source": [
        "**LinearSVC**"
      ]
    },
    {
      "cell_type": "code",
      "metadata": {
        "id": "H_6Vqqi9CKYb",
        "colab_type": "code",
        "outputId": "0b27bbda-2fbb-4713-da3e-b24f6e57ef05",
        "colab": {
          "base_uri": "https://localhost:8080/",
          "height": 34
        }
      },
      "source": [
        "from sklearn.svm import LinearSVC\n",
        "clf=LinearSVC()\n",
        "clf.fit(X_train,y_train)\n",
        "prediction=clf.predict(X_test)\n",
        "pred_labels=prediction==y_test\n",
        "acc=0.0\n",
        "for i in pred_labels:\n",
        "    if i==True:\n",
        "        acc+=1\n",
        "print ('SVM accuracy=',(acc)/len(pred_labels)*100,'%')\n",
        "\n"
      ],
      "execution_count": 6,
      "outputs": [
        {
          "output_type": "stream",
          "text": [
            "SVM accuracy= 79.64262922782387 %\n"
          ],
          "name": "stdout"
        }
      ]
    },
    {
      "cell_type": "markdown",
      "metadata": {
        "id": "jr1Y-heruBq1",
        "colab_type": "text"
      },
      "source": [
        "**F1 Score:**"
      ]
    },
    {
      "cell_type": "code",
      "metadata": {
        "id": "QAuy0y1VuGHx",
        "colab_type": "code",
        "colab": {
          "base_uri": "https://localhost:8080/",
          "height": 34
        },
        "outputId": "8a17eddb-9e55-405f-a2f6-8ac442219797"
      },
      "source": [
        "\n",
        "from sklearn.metrics import f1_score\n",
        "\n",
        "print(f1_score(y_test,prediction,average='macro'))"
      ],
      "execution_count": 9,
      "outputs": [
        {
          "output_type": "stream",
          "text": [
            "0.7940059553539983\n"
          ],
          "name": "stdout"
        }
      ]
    },
    {
      "cell_type": "markdown",
      "metadata": {
        "id": "1r5wVrrzuRoo",
        "colab_type": "text"
      },
      "source": [
        "**Confusion_Matrix**"
      ]
    },
    {
      "cell_type": "code",
      "metadata": {
        "id": "mS2H-TatuYi6",
        "colab_type": "code",
        "colab": {
          "base_uri": "https://localhost:8080/",
          "height": 68
        },
        "outputId": "a7d1f949-33a3-457a-8aef-b8da6ac78a6a"
      },
      "source": [
        "from sklearn.metrics import confusion_matrix\n",
        "\n",
        "print(confusion_matrix(y_test,prediction))"
      ],
      "execution_count": 10,
      "outputs": [
        {
          "output_type": "stream",
          "text": [
            "[[540  48  71]\n",
            " [ 68 306  31]\n",
            " [ 73  28 402]]\n"
          ],
          "name": "stdout"
        }
      ]
    },
    {
      "cell_type": "markdown",
      "metadata": {
        "id": "CQ4ATvFV1YkT",
        "colab_type": "text"
      },
      "source": [
        "**SGDClassifier**"
      ]
    },
    {
      "cell_type": "code",
      "metadata": {
        "id": "jinOaAFT2IPi",
        "colab_type": "code",
        "outputId": "166b3452-46b9-456d-acc8-3fbdb732d7f3",
        "colab": {
          "base_uri": "https://localhost:8080/",
          "height": 34
        }
      },
      "source": [
        "from sklearn import linear_model\n",
        "clf=linear_model.SGDClassifier(max_iter=1000, tol=1e-3,n_jobs=-1)\n",
        "clf.fit(X_train,y_train)\n",
        "prediction=clf.predict(X_test)\n",
        "pred_labels=prediction==y_test\n",
        "acc=0.0\n",
        "for i in pred_labels:\n",
        "    if i==True:\n",
        "        acc+=1\n",
        "print ('SVM accuracy=',(acc)/len(pred_labels)*100,'%')"
      ],
      "execution_count": 15,
      "outputs": [
        {
          "output_type": "stream",
          "text": [
            "SVM accuracy= 80.21697511167837 %\n"
          ],
          "name": "stdout"
        }
      ]
    },
    {
      "cell_type": "markdown",
      "metadata": {
        "id": "uL2_X1IZ1gtz",
        "colab_type": "text"
      },
      "source": [
        "**SVM with different value of C**"
      ]
    },
    {
      "cell_type": "code",
      "metadata": {
        "id": "gHK68udOsz9d",
        "colab_type": "code",
        "colab": {
          "base_uri": "https://localhost:8080/",
          "height": 1000
        },
        "outputId": "e64dcd6f-8379-4a36-cd36-6611413386ee"
      },
      "source": [
        "from sklearn.svm import SVC\n",
        "C_=[0.001,0.01,0.1,1,10]\n",
        "for i in C_:\n",
        "  clf = SVC(gamma='auto',kernel='linear',C=i)\n",
        "  clf.fit(X_train,y_train)\n",
        "  prediction=clf.predict(X_test)\n",
        "  pred_labels=prediction==y_test\n",
        "  acc=0.0\n",
        "  for j in pred_labels:\n",
        "      if j==True:\n",
        "          acc+=1\n",
        "  print (\"C=\",i,' SVM accuracy=',(acc)/len(pred_labels)*100,'%\\n\\n')\n",
        "  print(classification_report(y_test,prediction,labels=np.unique(prediction)))"
      ],
      "execution_count": 11,
      "outputs": [
        {
          "output_type": "stream",
          "text": [
            "C= 0.001  SVM accuracy= 42.05488194001276 %\n",
            "\n",
            "\n",
            "              precision    recall  f1-score   support\n",
            "\n",
            "         EAP       0.42      1.00      0.59       659\n",
            "\n",
            "   micro avg       0.42      1.00      0.59       659\n",
            "   macro avg       0.42      1.00      0.59       659\n",
            "weighted avg       0.42      1.00      0.59       659\n",
            "\n",
            "C= 0.01  SVM accuracy= 42.05488194001276 %\n",
            "\n",
            "\n",
            "              precision    recall  f1-score   support\n",
            "\n",
            "         EAP       0.42      1.00      0.59       659\n",
            "\n",
            "   micro avg       0.42      1.00      0.59       659\n",
            "   macro avg       0.42      1.00      0.59       659\n",
            "weighted avg       0.42      1.00      0.59       659\n",
            "\n",
            "C= 0.1  SVM accuracy= 60.6892150606254 %\n",
            "\n",
            "\n",
            "              precision    recall  f1-score   support\n",
            "\n",
            "         EAP       0.52      0.98      0.68       659\n",
            "         HPL       0.87      0.27      0.41       405\n",
            "         MWS       0.92      0.39      0.55       503\n",
            "\n",
            "    accuracy                           0.61      1567\n",
            "   macro avg       0.77      0.55      0.55      1567\n",
            "weighted avg       0.74      0.61      0.57      1567\n",
            "\n",
            "C= 1  SVM accuracy= 79.83407785577536 %\n",
            "\n",
            "\n",
            "              precision    recall  f1-score   support\n",
            "\n",
            "         EAP       0.78      0.84      0.81       659\n",
            "         HPL       0.81      0.75      0.78       405\n",
            "         MWS       0.82      0.78      0.80       503\n",
            "\n",
            "    accuracy                           0.80      1567\n",
            "   macro avg       0.80      0.79      0.80      1567\n",
            "weighted avg       0.80      0.80      0.80      1567\n",
            "\n",
            "C= 10  SVM accuracy= 75.62220804084238 %\n",
            "\n",
            "\n",
            "              precision    recall  f1-score   support\n",
            "\n",
            "         EAP       0.75      0.78      0.77       659\n",
            "         HPL       0.76      0.70      0.72       405\n",
            "         MWS       0.77      0.77      0.77       503\n",
            "\n",
            "    accuracy                           0.76      1567\n",
            "   macro avg       0.76      0.75      0.75      1567\n",
            "weighted avg       0.76      0.76      0.76      1567\n",
            "\n"
          ],
          "name": "stdout"
        }
      ]
    },
    {
      "cell_type": "markdown",
      "metadata": {
        "id": "Z9d2DLnf1nLx",
        "colab_type": "text"
      },
      "source": [
        "**SVM different Kernal**"
      ]
    },
    {
      "cell_type": "code",
      "metadata": {
        "id": "eBa_JxRzv_-f",
        "colab_type": "code",
        "colab": {
          "base_uri": "https://localhost:8080/",
          "height": 901
        },
        "outputId": "1b8f4ee0-b67e-4dd0-b2bd-799ad4252193"
      },
      "source": [
        "from sklearn.svm import SVC\n",
        "C_=['linear','poly','sigmoid','rbf']\n",
        "for i in C_:\n",
        "  clf = SVC(kernel=i,C=1)\n",
        "  clf.fit(X_train,y_train)\n",
        "  prediction=clf.predict(X_test)\n",
        "  pred_labels=prediction==y_test\n",
        "  acc=0.0\n",
        "  for j in pred_labels:\n",
        "      if j==True:\n",
        "          acc+=1\n",
        "  print (\"Kernal= \",i,' SVM accuracy=',(acc)/len(pred_labels)*100,'%\\n\\n')\n",
        "  print(classification_report(y_test,prediction,labels=np.unique(prediction)))"
      ],
      "execution_count": 13,
      "outputs": [
        {
          "output_type": "stream",
          "text": [
            "Kernal=  linear  SVM accuracy= 79.83407785577536 %\n",
            "\n",
            "\n",
            "              precision    recall  f1-score   support\n",
            "\n",
            "         EAP       0.78      0.84      0.81       659\n",
            "         HPL       0.81      0.75      0.78       405\n",
            "         MWS       0.82      0.78      0.80       503\n",
            "\n",
            "    accuracy                           0.80      1567\n",
            "   macro avg       0.80      0.79      0.80      1567\n",
            "weighted avg       0.80      0.80      0.80      1567\n",
            "\n",
            "Kernal=  poly  SVM accuracy= 46.58583280153159 %\n",
            "\n",
            "\n",
            "              precision    recall  f1-score   support\n",
            "\n",
            "         EAP       0.44      0.98      0.61       659\n",
            "         HPL       0.78      0.05      0.10       405\n",
            "         MWS       0.85      0.12      0.21       503\n",
            "\n",
            "    accuracy                           0.47      1567\n",
            "   macro avg       0.69      0.39      0.31      1567\n",
            "weighted avg       0.66      0.47      0.35      1567\n",
            "\n",
            "Kernal=  sigmoid  SVM accuracy= 79.89789406509253 %\n",
            "\n",
            "\n",
            "              precision    recall  f1-score   support\n",
            "\n",
            "         EAP       0.78      0.85      0.81       659\n",
            "         HPL       0.81      0.75      0.77       405\n",
            "         MWS       0.82      0.78      0.80       503\n",
            "\n",
            "    accuracy                           0.80      1567\n",
            "   macro avg       0.80      0.79      0.80      1567\n",
            "weighted avg       0.80      0.80      0.80      1567\n",
            "\n",
            "Kernal=  rbf  SVM accuracy= 78.49393746011486 %\n",
            "\n",
            "\n",
            "              precision    recall  f1-score   support\n",
            "\n",
            "         EAP       0.73      0.88      0.80       659\n",
            "         HPL       0.83      0.69      0.75       405\n",
            "         MWS       0.85      0.74      0.79       503\n",
            "\n",
            "    accuracy                           0.78      1567\n",
            "   macro avg       0.80      0.77      0.78      1567\n",
            "weighted avg       0.79      0.78      0.78      1567\n",
            "\n"
          ],
          "name": "stdout"
        }
      ]
    }
  ]
}